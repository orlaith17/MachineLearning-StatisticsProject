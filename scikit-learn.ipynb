{
 "cells": [
  {
   "cell_type": "markdown",
   "id": "63ac6025-fabc-4165-a731-f206340c6331",
   "metadata": {},
   "source": [
    "# The scikit-learn Python Library\n",
    "\n",
    "[Official Documentation](https://scikit-learn.org/stable/)\n",
    "***"
   ]
  },
  {
   "cell_type": "code",
   "execution_count": null,
   "id": "2ff8be45-fe8a-429f-a683-9caa6a1c0fd2",
   "metadata": {},
   "outputs": [],
   "source": []
  },
  {
   "cell_type": "markdown",
   "id": "c82ac3a7-12e6-444d-a883-1800a7bafd70",
   "metadata": {},
   "source": [
    "## Overview \n",
    "\n",
    "### A clear and concise overview of the scikit-learn Python library"
   ]
  },
  {
   "cell_type": "markdown",
   "id": "f695890b-95c8-4b1a-86a4-3eaaa6c7fffa",
   "metadata": {},
   "source": [
    "Wiki - Scikit-learn (formerly scikits.learn and also known as sklearn) is a free software machine learning library for the Python programming language.[3] It features various classification, regression and clustering algorithms including support vector machines, random forests, gradient boosting, k-means and DBSCAN, and is designed to interoperate with the Python numerical and scientific libraries NumPy and SciPy."
   ]
  },
  {
   "cell_type": "markdown",
   "id": "b8e06acd-688c-4dc8-bcf7-bace76a890f4",
   "metadata": {},
   "source": [
    "## Three Interesting Algorithms\n",
    "\n",
    "### Demonstrations of three interesting scikit-learn algorithms\n",
    "\n",
    "You may choose these yourself, based on what is covered in class or otherwise. Note that the demonstrations are at your discretion – you may choose to have an overall spread of examples across the library or pick a particular part that you find interesting.\n",
    "\n",
    "Appropriate plots and other visualisations to enhance your notebook for viewers.\n",
    "\n",
    "https://towardsdatascience.com/simple-way-to-find-a-suitable-algorithm-for-your-data-in-scikit-learn-python-9a9710c7c0fe\n",
    "\n",
    "https://www.dataquest.io/blog/sci-kit-learn-tutorial/\n"
   ]
  },
  {
   "cell_type": "markdown",
   "id": "4a7c1990-8191-48cf-9c4b-c4c309b102e8",
   "metadata": {},
   "source": [
    "### Algorithm 1\n",
    "\n",
    "https://scikit-learn.org/stable/modules/linear_model.html#passive-aggressive-algorithms\n",
    "\n",
    "https://medium.com/analytics-vidhya/most-used-scikit-learn-algorithms-part-1-snehit-vaddi-7ec0c98e4edd\n",
    "\n",
    " Sales-Win-Loss data set "
   ]
  },
  {
   "cell_type": "markdown",
   "id": "2b8f79e5-3c09-4dee-a3ef-de57028c9ad6",
   "metadata": {},
   "source": [
    "### Algorithm 2"
   ]
  },
  {
   "cell_type": "markdown",
   "id": "b5584c6f-912e-477f-9273-928e13721bf1",
   "metadata": {},
   "source": [
    "### Algorithm 3"
   ]
  },
  {
   "cell_type": "code",
   "execution_count": null,
   "id": "aa91237c-f17c-4a08-8e72-1e0fa774f69f",
   "metadata": {},
   "outputs": [],
   "source": []
  },
  {
   "cell_type": "markdown",
   "id": "181ac9d4-49cd-4a1d-be93-7ee84d1ff0f3",
   "metadata": {},
   "source": [
    "## References\n",
    "\n",
    "[1] https://scikit-learn.org/stable/ - look at ways to reference with footnotes in markdown\n",
    "\n",
    "[2] https://en.wikipedia.org/wiki/Scikit-learn"
   ]
  },
  {
   "cell_type": "markdown",
   "id": "69de5afb-380e-4d64-afdd-3e8b9d1ce1b8",
   "metadata": {},
   "source": [
    "***\n",
    "## End"
   ]
  }
 ],
 "metadata": {
  "kernelspec": {
   "display_name": "Python 3",
   "language": "python",
   "name": "python3"
  },
  "language_info": {
   "codemirror_mode": {
    "name": "ipython",
    "version": 3
   },
   "file_extension": ".py",
   "mimetype": "text/x-python",
   "name": "python",
   "nbconvert_exporter": "python",
   "pygments_lexer": "ipython3",
   "version": "3.8.8"
  }
 },
 "nbformat": 4,
 "nbformat_minor": 5
}
