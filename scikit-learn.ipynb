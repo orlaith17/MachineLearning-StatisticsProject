{
 "cells": [
  {
   "cell_type": "markdown",
   "id": "63ac6025-fabc-4165-a731-f206340c6331",
   "metadata": {},
   "source": [
    "# The scikit-learn Python Library\n",
    "\n",
    "[Official Documentation](https://scikit-learn.org/stable/)\n",
    "***"
   ]
  },
  {
   "cell_type": "code",
   "execution_count": null,
   "id": "2ff8be45-fe8a-429f-a683-9caa6a1c0fd2",
   "metadata": {},
   "outputs": [],
   "source": []
  },
  {
   "cell_type": "code",
   "execution_count": null,
   "id": "dcd23375-64e1-4231-a6f8-31c1e5e46114",
   "metadata": {},
   "outputs": [],
   "source": []
  },
  {
   "cell_type": "markdown",
   "id": "2db79391-02e1-46fe-b03a-83526286ab98",
   "metadata": {},
   "source": [
    "## Overview"
   ]
  },
  {
   "cell_type": "markdown",
   "id": "f695890b-95c8-4b1a-86a4-3eaaa6c7fffa",
   "metadata": {},
   "source": [
    "Predicting a continuous-valued attribute associated with an object.[1]"
   ]
  },
  {
   "cell_type": "markdown",
   "id": "b8e06acd-688c-4dc8-bcf7-bace76a890f4",
   "metadata": {},
   "source": [
    "## Three Interesting Algorithms"
   ]
  },
  {
   "cell_type": "markdown",
   "id": "4a7c1990-8191-48cf-9c4b-c4c309b102e8",
   "metadata": {},
   "source": [
    "### Algorithm 1"
   ]
  },
  {
   "cell_type": "markdown",
   "id": "2b8f79e5-3c09-4dee-a3ef-de57028c9ad6",
   "metadata": {},
   "source": [
    "### Algorithm 2"
   ]
  },
  {
   "cell_type": "markdown",
   "id": "b5584c6f-912e-477f-9273-928e13721bf1",
   "metadata": {},
   "source": [
    "### Algorithm 3"
   ]
  },
  {
   "cell_type": "code",
   "execution_count": null,
   "id": "aa91237c-f17c-4a08-8e72-1e0fa774f69f",
   "metadata": {},
   "outputs": [],
   "source": []
  },
  {
   "cell_type": "markdown",
   "id": "181ac9d4-49cd-4a1d-be93-7ee84d1ff0f3",
   "metadata": {},
   "source": [
    "## References\n",
    "\n",
    "[1] https://scikit-learn.org/stable/ - look at ways to reference with footnotes in markdown"
   ]
  },
  {
   "cell_type": "markdown",
   "id": "69de5afb-380e-4d64-afdd-3e8b9d1ce1b8",
   "metadata": {},
   "source": [
    "***\n",
    "## End"
   ]
  }
 ],
 "metadata": {
  "kernelspec": {
   "display_name": "Python 3",
   "language": "python",
   "name": "python3"
  },
  "language_info": {
   "codemirror_mode": {
    "name": "ipython",
    "version": 3
   },
   "file_extension": ".py",
   "mimetype": "text/x-python",
   "name": "python",
   "nbconvert_exporter": "python",
   "pygments_lexer": "ipython3",
   "version": "3.8.8"
  }
 },
 "nbformat": 4,
 "nbformat_minor": 5
}
