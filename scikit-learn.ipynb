{
 "cells": [
  {
   "cell_type": "markdown",
   "id": "63ac6025-fabc-4165-a731-f206340c6331",
   "metadata": {},
   "source": [
    "# The scikit-learn Python Library\n",
    "\n",
    "[Official Documentation](https://scikit-learn.org/stable/)\n",
    "***"
   ]
  },
  {
   "cell_type": "markdown",
   "id": "21221992-1d35-40fc-a146-5b6d5e35c13c",
   "metadata": {},
   "source": [
    "# 10% A clear and concise overview of the scikit-learn Python library"
   ]
  },
  {
   "cell_type": "markdown",
   "id": "c82ac3a7-12e6-444d-a883-1800a7bafd70",
   "metadata": {},
   "source": [
    "## Overview \n",
    "\n",
    "### A clear and concise overview of the scikit-learn Python library"
   ]
  },
  {
   "cell_type": "markdown",
   "id": "f695890b-95c8-4b1a-86a4-3eaaa6c7fffa",
   "metadata": {},
   "source": [
    "Wiki - Scikit-learn (formerly scikits.learn and also known as sklearn) is a free software machine learning library for the Python programming language.[3] It features various classification, regression and clustering algorithms including support vector machines, random forests, gradient boosting, k-means and DBSCAN, and is designed to interoperate with the Python numerical and scientific libraries NumPy and SciPy.\n",
    "\n",
    "\n",
    "supervised vs unsupervised learning"
   ]
  },
  {
   "cell_type": "markdown",
   "id": "82a1bf27-8fae-4300-9753-bb7726b74f41",
   "metadata": {},
   "source": [
    "![Choosing the right estimator](https://scikit-learn.org/stable/_static/ml_map.png)"
   ]
  },
  {
   "cell_type": "markdown",
   "id": "9877b4f3-f0e8-4b6f-b6b5-20455047cdc1",
   "metadata": {},
   "source": [
    "# 20% Demonstrations of three interesting scikit-learn algorithms. You may choose these yourself, based on what is covered in class or otherwise. Note that the demonstrations are at your discretion – you may choose to have an overall spread of examples across the library or pick a particular part that you find interesting.\n",
    "\n",
    "# 10% Appropriate plots and other visualisations to enhance your notebook for viewers"
   ]
  },
  {
   "cell_type": "markdown",
   "id": "b8e06acd-688c-4dc8-bcf7-bace76a890f4",
   "metadata": {},
   "source": [
    "## Three Interesting Algorithms\n",
    "\n",
    "\n",
    "https://towardsdatascience.com/simple-way-to-find-a-suitable-algorithm-for-your-data-in-scikit-learn-python-9a9710c7c0fe\n",
    "\n",
    "https://www.dataquest.io/blog/sci-kit-learn-tutorial/\n",
    "\n",
    "https://scikit-learn.org/stable/modules/linear_model.html#passive-aggressive-algorithms\n",
    "\n",
    "[Article discussing sci-kit alogrithms Part 1](https://medium.com/analytics-vidhya/most-used-scikit-learn-algorithms-part-1-snehit-vaddi-7ec0c98e4edd)\n",
    "\n",
    "[Article discussing sci-kit alogrithms Part 2](https://deepanshu-gaur.medium.com/scikit-learn-beginners-part-2-ca78a51803a8)\n",
    "\n",
    "[Article discussing sci-kit alogrithms Part 3](https://deepanshu-gaur.medium.com/scikit-learn-beginners-part-3-6fb05798acb1)\n",
    "\n",
    " Sales-Win-Loss data set \n"
   ]
  },
  {
   "cell_type": "markdown",
   "id": "4a7c1990-8191-48cf-9c4b-c4c309b102e8",
   "metadata": {},
   "source": [
    "### Algorithm 1\n",
    "\n",
    "Support Vector Machines SVM supervised\n",
    "\n",
    "https://www.datacamp.com/community/tutorials/svm-classification-scikit-learn-python\n",
    "\n"
   ]
  },
  {
   "cell_type": "markdown",
   "id": "2b8f79e5-3c09-4dee-a3ef-de57028c9ad6",
   "metadata": {},
   "source": [
    "### Algorithm 2\n",
    "\n",
    "SGD, Stochastic Gradient Descent, SGD Regressor, SGD Classifier, supervised"
   ]
  },
  {
   "cell_type": "markdown",
   "id": "379587c5-f92b-4219-96db-0513d7568666",
   "metadata": {},
   "source": [
    "### Algorithm 3\n",
    "\n",
    "Clustering, unsupervised learning\n",
    "\n",
    "https://scikit-learn.org/stable/modules/clustering.html\n",
    "\n",
    "https://deepanshu-gaur.medium.com/scikit-learn-beginners-part-3-6fb05798acb1"
   ]
  },
  {
   "cell_type": "markdown",
   "id": "181ac9d4-49cd-4a1d-be93-7ee84d1ff0f3",
   "metadata": {},
   "source": [
    "## References\n",
    "\n",
    "[1] https://scikit-learn.org/stable/ - look at ways to reference with footnotes in markdown\n",
    "\n",
    "[2] https://en.wikipedia.org/wiki/Scikit-learn"
   ]
  },
  {
   "cell_type": "markdown",
   "id": "69de5afb-380e-4d64-afdd-3e8b9d1ce1b8",
   "metadata": {},
   "source": [
    "***\n",
    "## End"
   ]
  }
 ],
 "metadata": {
  "kernelspec": {
   "display_name": "Python 3",
   "language": "python",
   "name": "python3"
  },
  "language_info": {
   "codemirror_mode": {
    "name": "ipython",
    "version": 3
   },
   "file_extension": ".py",
   "mimetype": "text/x-python",
   "name": "python",
   "nbconvert_exporter": "python",
   "pygments_lexer": "ipython3",
   "version": "3.8.8"
  }
 },
 "nbformat": 4,
 "nbformat_minor": 5
}
