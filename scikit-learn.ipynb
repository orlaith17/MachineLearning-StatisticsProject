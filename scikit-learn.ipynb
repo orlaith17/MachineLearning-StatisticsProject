{
 "cells": [
  {
   "cell_type": "markdown",
   "id": "63ac6025-fabc-4165-a731-f206340c6331",
   "metadata": {},
   "source": [
    "RandomForest - classification, regression\n",
    "\n",
    "Decision Tree - classification, regression\n",
    "\n",
    "SVC - classification\n",
    "\n",
    "KNN - classification\n",
    "\n",
    "Lasso - regression\n",
    "\n",
    "Gradiant Bossing - classification\n",
    "\n",
    "Multiple Linear - regression\n",
    "***\n",
    "\n",
    "\n",
    "\n",
    "\n",
    "Supervised vs Unsupervised - iris data set https://jakevdp.github.io/PythonDataScienceHandbook/05.02-introducing-scikit-learn.html\n",
    "\n",
    "Classification and Regression are examples of Supervised Learning\n",
    "\n",
    "Random Forest vs\n",
    "Decision Tree vs\n",
    "Support Vector Machine\n",
    "\n",
    "https://www.analyticsvidhya.com/blog/2020/05/decision-tree-vs-random-forest-algorithm/\n",
    "Decision Tree vs. Random Forest \n",
    "\n",
    "https://towardsdatascience.com/comparative-study-on-classic-machine-learning-algorithms-24f9ff6ab222\n",
    "Comparative Study on Classic Machine learning Algorithms\n",
    "Random Forest vs. SVM\n",
    "\n",
    "**When to use each**\n"
   ]
  },
  {
   "cell_type": "markdown",
   "id": "cac92c55-e306-470a-94f0-4ef2694befe9",
   "metadata": {},
   "source": [
    "# The scikit-learn Python Library\n",
    "\n",
    "[Official Documentation](https://scikit-learn.org/stable/)\n",
    "***"
   ]
  },
  {
   "cell_type": "markdown",
   "id": "c82ac3a7-12e6-444d-a883-1800a7bafd70",
   "metadata": {},
   "source": [
    "**10% A clear and concise overview of the scikit-learn Python library**\n",
    "## Overview\n",
    "\n",
    "### Machine Learning\n",
    "### Features of scikit-learn\n",
    "\n",
    "\n",
    "\n",
    "https://towardsdatascience.com/how-to-master-scikit-learn-for-data-science-c29214ec25b0\n",
    "\n",
    "- What is Scikit-Learn\n",
    "- Who uses it\n",
    "- Why is it used\n",
    "- What are the best uses cases\n",
    "- What is the key functionality\n",
    "- Examples of using key functionality\n",
    "\n",
    "\n",
    "#### https://arxiv.org/pdf/1309.0238.pdf is API design for machine learning software: experiences from the scikit-learn project Cornell paper\n",
    "\n",
    "https://jakevdp.github.io/PythonDataScienceHandbook/05.02-introducing-scikit-learn.html\n",
    "\n",
    "Consistency: All objects share a common interface drawn from a limited set of methods, with consistent documentation.\n",
    "\n",
    "Inspection: All specified parameter values are exposed as public attributes.\n",
    "\n",
    "Limited object hierarchy: Only algorithms are represented by Python classes; datasets are represented in standard formats (NumPy arrays, Pandas DataFrames, SciPy sparse matrices) and parameter names use standard Python strings.\n",
    "\n",
    "Composition: Many machine learning tasks can be expressed as sequences of more fundamental algorithms, and Scikit-Learn makes use of this wherever possible.\n",
    "\n",
    "Sensible defaults: When models require user-specified parameters, the library defines an appropriate default value.\n",
    "\n",
    "\n",
    "three complementary interfaces: an **estimator** (and pipelines) interface for building and fitting models, a **predictor** interface for making predictions and a **transformer** interface\n",
    "for converting data. \n",
    "\n",
    "http://www.mostafa.rocks/2017/04/what-is-difference-between-estimators.html: What is the difference between estimators vs transformers vs predictors in sklearn? and https://stackoverflow.com/questions/54899647/what-is-the-difference-between-transformer-and-estimator-in-sklearn\n",
    "\n",
    "You can combine building blocks of estimators, transformers and predictors as a pipeline in sklearn. This allows developers to use multiple estimators from a sequence of transformers followed by a final estimator or predictor. This concept is called composition in Machine Learning....the x and y details of fit()\n",
    "\n",
    "Data Representation, Estimators, Predictors\n",
    "\n"
   ]
  },
  {
   "cell_type": "markdown",
   "id": "f695890b-95c8-4b1a-86a4-3eaaa6c7fffa",
   "metadata": {},
   "source": [
    "Wiki - Scikit-learn (formerly scikits.learn and also known as sklearn) is a free software machine learning library for the Python programming language.[3] It features various classification, regression and clustering algorithms including support vector machines, random forests, gradient boosting, k-means and DBSCAN, and is designed to interoperate with the Python numerical and scientific libraries NumPy and SciPy.\n",
    "\n",
    "\n",
    "supervised vs unsupervised learning"
   ]
  },
  {
   "cell_type": "markdown",
   "id": "82a1bf27-8fae-4300-9753-bb7726b74f41",
   "metadata": {},
   "source": [
    "![Choosing the right estimator](https://scikit-learn.org/stable/_static/ml_map.png)\n",
    "this is the algorithm/estimator cheat sheet\n",
    "\n",
    "https://medium.com/district-data-labs/an-introduction-to-machine-learning-with-python-92bcaf651ac4\n",
    "\n",
    "https://jakevdp.github.io/PythonDataScienceHandbook/05.02-introducing-scikit-learn.html\n",
    "\n",
    "\n",
    "\n",
    "\n",
    "\n",
    "\n"
   ]
  },
  {
   "cell_type": "markdown",
   "id": "9877b4f3-f0e8-4b6f-b6b5-20455047cdc1",
   "metadata": {},
   "source": [
    "**20% Demonstrations of three interesting scikit-learn algorithms.**\n",
    "\n",
    "**10% Appropriate plots and other visualisations to enhance your notebook for viewers**\n",
    "\n",
    "## Application"
   ]
  },
  {
   "cell_type": "markdown",
   "id": "91e6a32a-2208-44e4-a61f-b28e7abc9dc2",
   "metadata": {},
   "source": [
    "### Import necessary packages"
   ]
  },
  {
   "cell_type": "code",
   "execution_count": 29,
   "id": "1d8de436-918e-4a85-9c87-1e6c5146234a",
   "metadata": {},
   "outputs": [],
   "source": [
    "# Packages \n",
    "import pandas as pd\n",
    "import numpy as np\n",
    "import matplotlib.pyplot as plt\n",
    "import seaborn as sns\n",
    "from sklearn.linear_model import LinearRegression\n",
    "from sklearn.model_selection import train_test_split\n",
    "from sklearn import datasets\n",
    "plt.style.use('ggplot')\n",
    "%matplotlib inline\n",
    "randomstate = 1 #Provides consistent random data for training and testing. Set to 'None' if not needed"
   ]
  },
  {
   "cell_type": "markdown",
   "id": "9a7d872f-a475-4db9-be6f-7ed9b6ef9d32",
   "metadata": {},
   "source": [
    "### Selection of Dataset\n",
    "\n",
    "review and structure\n",
    "\n",
    "datasets available on scikit learn and others: https://scikit-learn.org/stable/datasets.html toy datasets preinstalled\n",
    "\n",
    "see 2021 diabetes diet good - run it and make some small observations, maybe do a pairplot"
   ]
  },
  {
   "cell_type": "markdown",
   "id": "b8e06acd-688c-4dc8-bcf7-bace76a890f4",
   "metadata": {},
   "source": [
    "## Three Interesting Algorithms\n",
    "\n",
    "\n",
    "https://towardsdatascience.com/simple-way-to-find-a-suitable-algorithm-for-your-data-in-scikit-learn-python-9a9710c7c0fe\n",
    "\n",
    "https://www.dataquest.io/blog/sci-kit-learn-tutorial/\n",
    "\n",
    "\n",
    "\n",
    "https://scikit-learn.org/stable/supervised_learning.html\n",
    "\n",
    "[Article discussing sci-kit alogrithms Part 1](https://medium.com/analytics-vidhya/most-used-scikit-learn-algorithms-part-1-snehit-vaddi-7ec0c98e4edd)\n",
    "\n",
    "[Article discussing sci-kit alogrithms Part 2](https://deepanshu-gaur.medium.com/scikit-learn-beginners-part-2-ca78a51803a8)\n",
    "\n",
    "[Article discussing sci-kit alogrithms Part 3](https://deepanshu-gaur.medium.com/scikit-learn-beginners-part-3-6fb05798acb1)\n",
    "\n",
    "\n"
   ]
  },
  {
   "cell_type": "markdown",
   "id": "2b8f79e5-3c09-4dee-a3ef-de57028c9ad6",
   "metadata": {},
   "source": [
    "### Algorithm 1 - Decision Tree\n",
    "\n",
    "**Classification**\n",
    "https://www.datacamp.com/community/tutorials/decision-tree-classification-python eg Pima Indian Diabetes\n",
    "\n",
    "**Regression**\n",
    "https://deepanshu-gaur.medium.com/scikit-learn-beginners-part-2-ca78a51803a8: Decision Trees is another type of supervised machine learning algorithm where the data is continuously split according to a certain parameter.\n",
    "More the data more is the accuracy of the model.\n",
    "Decision trees is one of the most used algorithm out of all supervised learning algorithms and finds huge applications in the industry.\n",
    "\n",
    "\n",
    "\n",
    "see 2021 diabetes diet good"
   ]
  },
  {
   "cell_type": "code",
   "execution_count": 30,
   "id": "7a78bd2f-160c-4d41-b804-898d70ad8ebb",
   "metadata": {},
   "outputs": [
    {
     "data": {
      "text/plain": [
       "array([1])"
      ]
     },
     "execution_count": 30,
     "metadata": {},
     "output_type": "execute_result"
    }
   ],
   "source": [
    "from sklearn import tree\n",
    "X = [[0, 0], [1, 1]]\n",
    "Y = [0, 1]\n",
    "clf = tree.DecisionTreeClassifier()\n",
    "clf = clf.fit(X, Y)\n",
    "clf.predict([[2., 3.]])"
   ]
  },
  {
   "cell_type": "markdown",
   "id": "379587c5-f92b-4219-96db-0513d7568666",
   "metadata": {},
   "source": [
    "### Algorithm 2 - Random Forest\n",
    "\n",
    "https://www.datacamp.com/community/tutorials/random-forests-classifier-python: iris\n",
    "\n",
    "#### Summary\n",
    "#### Advantages and Disadvantages\n",
    "#### Features\n",
    "\n",
    "https://www.kaggle.com/prashant111/random-forest-classifier-tutorial\n",
    "\n",
    "\n",
    "https://deepanshu-gaur.medium.com/scikit-learn-beginners-part-2-ca78a51803a8: Another powerful machine learning algorithm that produces great result even without hyper-parameter tuning.\n",
    "It is also one of the most used algorithms, because of its simplicity and the fact that it can be used for both classification and regression tasks.\n",
    "\n",
    "Part 1 of above article...very detailed: Random forest is a supervised ensemble learning algorithm that is used for both classifications as well as regression problems. But however, it is mainly used for classification problems. As we know that a forest is made up of trees and more trees mean more robust forests. Similarly, the random forest algorithm creates decision trees on data samples and then gets the prediction from each of them and finally selects the best solution by means of voting.\n",
    "It is an ensemble method that is better than a single decision tree because it reduces the over-fitting by averaging the result."
   ]
  },
  {
   "cell_type": "code",
   "execution_count": 31,
   "id": "a0c5d34c-4716-4070-89aa-fc284ac5d893",
   "metadata": {},
   "outputs": [
    {
     "name": "stdout",
     "output_type": "stream",
     "text": [
      "[1]\n"
     ]
    }
   ],
   "source": [
    "from sklearn.ensemble import RandomForestClassifier\n",
    "X = [[0, 0], [1, 1]]\n",
    "Y = [0, 1]\n",
    "clf = RandomForestClassifier(n_estimators=10)\n",
    "clf = clf.fit(X, Y)\n",
    "pred = clf.predict([[2., 3.]])\n",
    "print(pred)"
   ]
  },
  {
   "cell_type": "markdown",
   "id": "b38780a6-2547-4291-a0fe-0bf34c8c84b0",
   "metadata": {},
   "source": [
    "### Decision Tree vs Random Forest\n",
    "\n",
    "https://www.datacamp.com/community/tutorials/random-forests-classifier-python#comparison\n",
    "\n",
    "https://www.kaggle.com/prashant111/random-forest-classifier-tutorial#5"
   ]
  },
  {
   "cell_type": "markdown",
   "id": "47365ec3-24bd-4f23-90cb-bc3ff860f557",
   "metadata": {},
   "source": [
    "### Algorithm 3 - Support Vector Machines \n",
    "\n",
    "https://www.datacamp.com/community/tutorials/svm-classification-scikit-learn-python: e.g. breast cancer\n",
    "#### Summary\n",
    "#### How does it work\n",
    "#### Tuning Hyperparameters\n",
    "#### Advantages and Disadvantages\n",
    "\n",
    "SVM supervised\n",
    "\n",
    "https://www.datacamp.com/community/tutorials/svm-classification-scikit-learn-python\n",
    "\n",
    "https://deepanshu-gaur.medium.com/scikit-learn-beginners-part-2-ca78a51803a8: Support Vector Machines(SVM) are among one of the most popular and talked about machine learning algorithms. SVM can be used for both Classification and Regression.\n",
    "The main objective of SVM is to find a hyperplane in an N-dimensional space that distinctly classifies the data points. SVM cannot be applied to the majority of large datasets since the classes must be separated by a boundary that should be linear. Detailed Explanation here.\n",
    "\n",
    "\n",
    "see 2021 diabetes diet good"
   ]
  },
  {
   "cell_type": "code",
   "execution_count": 32,
   "id": "48351708-4c97-461d-918a-5e82160c5222",
   "metadata": {},
   "outputs": [
    {
     "ename": "NameError",
     "evalue": "name 'SVC' is not defined",
     "output_type": "error",
     "traceback": [
      "\u001b[1;31m---------------------------------------------------------------------------\u001b[0m",
      "\u001b[1;31mNameError\u001b[0m                                 Traceback (most recent call last)",
      "\u001b[1;32m<ipython-input-32-64535fd45d88>\u001b[0m in \u001b[0;36m<module>\u001b[1;34m\u001b[0m\n\u001b[0;32m      4\u001b[0m \u001b[0mclf\u001b[0m \u001b[1;33m=\u001b[0m \u001b[0msvm\u001b[0m\u001b[1;33m.\u001b[0m\u001b[0mSVC\u001b[0m\u001b[1;33m(\u001b[0m\u001b[1;33m)\u001b[0m \u001b[1;31m# classifier is created\u001b[0m\u001b[1;33m\u001b[0m\u001b[1;33m\u001b[0m\u001b[0m\n\u001b[0;32m      5\u001b[0m \u001b[0mclf\u001b[0m\u001b[1;33m.\u001b[0m\u001b[0mfit\u001b[0m\u001b[1;33m(\u001b[0m\u001b[0mX\u001b[0m\u001b[1;33m,\u001b[0m \u001b[0my\u001b[0m\u001b[1;33m)\u001b[0m \u001b[1;31m# fitting classifier on dataset\u001b[0m\u001b[1;33m\u001b[0m\u001b[1;33m\u001b[0m\u001b[0m\n\u001b[1;32m----> 6\u001b[1;33m OUTPUT : SVC(C=1.0, cache_size=200, class_weight=None, coef0=0.0,\n\u001b[0m\u001b[0;32m      7\u001b[0m   \u001b[0mdecision_function_shape\u001b[0m\u001b[1;33m=\u001b[0m\u001b[1;34m'ovr'\u001b[0m\u001b[1;33m,\u001b[0m \u001b[0mdegree\u001b[0m\u001b[1;33m=\u001b[0m\u001b[1;36m3\u001b[0m\u001b[1;33m,\u001b[0m \u001b[0mgamma\u001b[0m\u001b[1;33m=\u001b[0m\u001b[1;34m'auto'\u001b[0m\u001b[1;33m,\u001b[0m \u001b[0mkernel\u001b[0m\u001b[1;33m=\u001b[0m\u001b[1;34m'rbf'\u001b[0m\u001b[1;33m,\u001b[0m\u001b[1;33m\u001b[0m\u001b[1;33m\u001b[0m\u001b[0m\n\u001b[0;32m      8\u001b[0m   \u001b[0mmax_iter\u001b[0m\u001b[1;33m=\u001b[0m\u001b[1;33m-\u001b[0m\u001b[1;36m1\u001b[0m\u001b[1;33m,\u001b[0m \u001b[0mprobability\u001b[0m\u001b[1;33m=\u001b[0m\u001b[1;32mFalse\u001b[0m\u001b[1;33m,\u001b[0m \u001b[0mrandom_state\u001b[0m\u001b[1;33m=\u001b[0m\u001b[1;32mNone\u001b[0m\u001b[1;33m,\u001b[0m \u001b[0mshrinking\u001b[0m\u001b[1;33m=\u001b[0m\u001b[1;32mTrue\u001b[0m\u001b[1;33m,\u001b[0m\u001b[1;33m\u001b[0m\u001b[1;33m\u001b[0m\u001b[0m\n",
      "\u001b[1;31mNameError\u001b[0m: name 'SVC' is not defined"
     ]
    }
   ],
   "source": [
    "from sklearn import svm\n",
    "X = [[0, 0], [1, 1]] # dataset\n",
    "y = [0, 1]\n",
    "clf = svm.SVC() # classifier is created\n",
    "clf.fit(X, y) # fitting classifier on dataset\n",
    "OUTPUT : SVC(C=1.0, cache_size=200, class_weight=None, coef0=0.0,\n",
    "  decision_function_shape='ovr', degree=3, gamma='auto', kernel='rbf',\n",
    "  max_iter=-1, probability=False, random_state=None, shrinking=True,\n",
    "  tol=0.001, verbose=False)"
   ]
  },
  {
   "cell_type": "markdown",
   "id": "ce33168a-26a0-429c-9c71-de753a779654",
   "metadata": {},
   "source": [
    "### Random Forest vs SVM"
   ]
  },
  {
   "cell_type": "markdown",
   "id": "181ac9d4-49cd-4a1d-be93-7ee84d1ff0f3",
   "metadata": {},
   "source": [
    "## References\n",
    "\n",
    "[1] https://scikit-learn.org/stable/ - look at ways to reference with footnotes in markdown\n",
    "\n",
    "[2] https://en.wikipedia.org/wiki/Scikit-learn"
   ]
  },
  {
   "cell_type": "markdown",
   "id": "69de5afb-380e-4d64-afdd-3e8b9d1ce1b8",
   "metadata": {},
   "source": [
    "***\n",
    "## End"
   ]
  }
 ],
 "metadata": {
  "kernelspec": {
   "display_name": "Python 3",
   "language": "python",
   "name": "python3"
  },
  "language_info": {
   "codemirror_mode": {
    "name": "ipython",
    "version": 3
   },
   "file_extension": ".py",
   "mimetype": "text/x-python",
   "name": "python",
   "nbconvert_exporter": "python",
   "pygments_lexer": "ipython3",
   "version": "3.8.8"
  }
 },
 "nbformat": 4,
 "nbformat_minor": 5
}
