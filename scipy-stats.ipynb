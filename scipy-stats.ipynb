{
 "cells": [
  {
   "cell_type": "markdown",
   "id": "859da1bf-166a-41c1-9692-8150c6018004",
   "metadata": {},
   "source": [
    "# The scipy.stats Python Library \n",
    "\n",
    "[Official Documentation](https://docs.scipy.org/doc/scipy/reference/reference/stats.html)\n",
    "***"
   ]
  },
  {
   "cell_type": "code",
   "execution_count": null,
   "id": "1f5dbf45-243c-46f3-be77-56a6797a7dee",
   "metadata": {},
   "outputs": [],
   "source": []
  },
  {
   "cell_type": "markdown",
   "id": "e8826b6c-cb77-4f35-b35c-7eeda4c0546f",
   "metadata": {},
   "source": [
    "## Example Hypothesis Test using ANOVA"
   ]
  },
  {
   "cell_type": "markdown",
   "id": "6060d8f6-aa86-49d7-ba21-b09d89c0f6d2",
   "metadata": {},
   "source": [
    "### Data Set - ensure the assumptions underlying ANOVA are met"
   ]
  },
  {
   "cell_type": "markdown",
   "id": "9bc60ab5-5fcc-4cb4-8743-23e36d40437c",
   "metadata": {},
   "source": [
    "### Results"
   ]
  },
  {
   "cell_type": "markdown",
   "id": "bd88e22a-d4a4-4ff6-bd12-e41dfd89f798",
   "metadata": {},
   "source": [
    "## References\n",
    "\n",
    "[1] https://docs.scipy.org/doc/scipy/reference/reference/stats.html"
   ]
  },
  {
   "cell_type": "markdown",
   "id": "d3e3b179-b4e7-4205-8e60-e28760358618",
   "metadata": {},
   "source": [
    "***\n",
    "## End"
   ]
  }
 ],
 "metadata": {
  "kernelspec": {
   "display_name": "Python 3",
   "language": "python",
   "name": "python3"
  },
  "language_info": {
   "codemirror_mode": {
    "name": "ipython",
    "version": 3
   },
   "file_extension": ".py",
   "mimetype": "text/x-python",
   "name": "python",
   "nbconvert_exporter": "python",
   "pygments_lexer": "ipython3",
   "version": "3.8.8"
  }
 },
 "nbformat": 4,
 "nbformat_minor": 5
}
