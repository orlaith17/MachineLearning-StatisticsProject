{
 "cells": [
  {
   "cell_type": "markdown",
   "id": "859da1bf-166a-41c1-9692-8150c6018004",
   "metadata": {},
   "source": [
    "# The scipy.stats Python Library \n",
    "\n",
    "[Official Documentation](https://docs.scipy.org/doc/scipy/reference/reference/stats.html)\n",
    "***"
   ]
  },
  {
   "cell_type": "markdown",
   "id": "326ec83a-9d2b-444a-97bd-9911731bd2fe",
   "metadata": {},
   "source": [
    "# 10% A clear and concise overview of the scipy.stats Python library:\n",
    "\n",
    "https://scipy-lectures.org/packages/statistics/index.html\n",
    "\n",
    "https://docs.scipy.org/doc/scipy/reference/reference/stats.html\n",
    "\n",
    "[t-test v anova](https://www.raybiotech.com/learning-center/t-test-anova/#:~:text=The%20t%2Dtest%20is%20a,statistically%20different%20from%20each%20other)"
   ]
  },
  {
   "cell_type": "markdown",
   "id": "fd0bef68-0a3c-4658-853e-4023df11a40d",
   "metadata": {},
   "source": [
    "# 20% An example hypothesis test using ANOVA. You should find a data set on which it is appropriate to use ANOVA, ensure the assumptions underlying ANOVA are met, and then perform and display the results of your ANOVA using scipy.stats"
   ]
  },
  {
   "cell_type": "markdown",
   "id": "61356bc3-e50d-422c-a0f0-37ba968ff8cc",
   "metadata": {},
   "source": [
    "# 10% Appropriate plots and other visualisations to enhance your notebook for viewers\n"
   ]
  },
  {
   "cell_type": "markdown",
   "id": "e8826b6c-cb77-4f35-b35c-7eeda4c0546f",
   "metadata": {},
   "source": [
    "## Example Hypothesis Test using ANOVA\n",
    "\n",
    "https://www.itl.nist.gov/div898/education/datasets.htm#anova\n",
    "\n",
    "One-way Anova and Two-Way Anova\n",
    "\n",
    "https://www.statisticssolutions.com/free-resources/directory-of-statistical-analyses/anova/\n",
    "\n",
    "[One-way ANOVA in SPSS Statistics](https://statistics.laerd.com/spss-tutorials/one-way-anova-using-spss-statistics.php)\n",
    "\n",
    "https://docs.scipy.org/doc/scipy/reference/generated/scipy.stats.f_oneway.html"
   ]
  },
  {
   "cell_type": "markdown",
   "id": "1d6361a1-c8b1-4378-ab66-fd3bc4fda784",
   "metadata": {},
   "source": [
    "### Data Set - ensure the assumptions underlying ANOVA are met\n",
    "\n",
    "p-values??"
   ]
  },
  {
   "cell_type": "markdown",
   "id": "2fa407c3-f5a9-4357-9ae1-8ca3b9b112ba",
   "metadata": {},
   "source": [
    "Assumption #1: Your dependent variable should be measured at the interval or ratio level (i.e., they are continuous). Examples of variables that meet this criterion include revision time (measured in hours), intelligence (measured using IQ score), exam performance (measured from 0 to 100), weight (measured in kg), and so forth. You can learn more about interval and ratio variables in our article: Types of Variable."
   ]
  },
  {
   "cell_type": "markdown",
   "id": "6c42bfa7-b745-4eac-a03f-9d082937f268",
   "metadata": {},
   "source": [
    "Assumption #2: Your independent variable should consist of two or more categorical, independent groups. Typically, a one-way ANOVA is used when you have three or more categorical, independent groups, but it can be used for just two groups (but an independent-samples t-test is more commonly used for two groups). Example independent variables that meet this criterion include ethnicity (e.g., 3 groups: Caucasian, African American and Hispanic), physical activity level (e.g., 4 groups: sedentary, low, moderate and high), profession (e.g., 5 groups: surgeon, doctor, nurse, dentist, therapist), and so forth."
   ]
  },
  {
   "cell_type": "markdown",
   "id": "b5196eb4-f1ba-4494-ba55-1393fb07bd05",
   "metadata": {},
   "source": [
    "Assumption #3: You should have independence of observations, which means that there is no relationship between the observations in each group or between the groups themselves. For example, there must be different participants in each group with no participant being in more than one group. This is more of a study design issue than something you can test for, but it is an important assumption of the one-way ANOVA. If your study fails this assumption, you will need to use another statistical test instead of the one-way ANOVA (e.g., a repeated measures design). If you are unsure whether your study meets this assumption, you can use our Statistical Test Selector, which is part of our enhanced guides."
   ]
  },
  {
   "cell_type": "markdown",
   "id": "81b98e66-f6b3-46c9-b339-dfac58a5bb25",
   "metadata": {},
   "source": [
    "Assumption #4: There should be no significant outliers. Outliers are simply single data points within your data that do not follow the usual pattern (e.g., in a study of 100 students' IQ scores, where the mean score was 108 with only a small variation between students, one student had a score of 156, which is very unusual, and may even put her in the top 1% of IQ scores globally). The problem with outliers is that they can have a negative effect on the one-way ANOVA, reducing the validity of your results. Fortunately, when using SPSS Statistics to run a one-way ANOVA on your data, you can easily detect possible outliers. In our enhanced one-way ANOVA guide, we: (a) show you how to detect outliers using SPSS Statistics; and (b) discuss some of the options you have in order to deal with outliers. You can learn more about our enhanced one-way ANOVA guide on our Features: One-way ANOVA page."
   ]
  },
  {
   "cell_type": "markdown",
   "id": "551537b4-d8bc-475b-ac35-3323cbae8e14",
   "metadata": {},
   "source": [
    "Assumption #5: Your dependent variable should be approximately normally distributed for each category of the independent variable. We talk about the one-way ANOVA only requiring approximately normal data because it is quite \"robust\" to violations of normality, meaning that assumption can be a little violated and still provide valid results. You can test for normality using the Shapiro-Wilk test of normality, which is easily tested for using SPSS Statistics. In addition to showing you how to do this in our enhanced one-way ANOVA guide, we also explain what you can do if your data fails this assumption (i.e., if it fails it more than a little bit). Again, you can learn more on our Features: One-way ANOVA page."
   ]
  },
  {
   "cell_type": "markdown",
   "id": "47dbbb1f-96ea-44db-b44e-8fd484bc94b8",
   "metadata": {},
   "source": [
    "Assumption #6: There needs to be homogeneity of variances. You can test this assumption in SPSS Statistics using Levene's test for homogeneity of variances. If your data fails this assumption, you will need to not only carry out a Welch ANOVA instead of a one-way ANOVA, which you can do using SPSS Statistics, but also use a different post hoc test. In our enhanced one-way ANOVA guide, we (a) show you how to perform Levene’s test for homogeneity of variances in SPSS Statistics, (b) explain some of the things you will need to consider when interpreting your data, and (c) present possible ways to continue with your analysis if your data fails to meet this assumption, including running a Welch ANOVA in SPSS Statistics instead of a one-way ANOVA, and a Games-Howell test instead of a Tukey post hoc test (learn more on our Features: One-way ANOVA page)."
   ]
  },
  {
   "cell_type": "markdown",
   "id": "9bc60ab5-5fcc-4cb4-8743-23e36d40437c",
   "metadata": {},
   "source": [
    "### Results - perform and display the results of your ANOVA using scipy.stats\n",
    "\n",
    "![Tests](https://www.reneshbedre.com/assets/posts/anova/main.webp)\n",
    "\n",
    "https://www.reneshbedre.com/blog/anova.html\n",
    "\n",
    "https://www.pythonfordatascience.org/anova-python/\n",
    "\n",
    "https://www.analyticsvidhya.com/blog/2020/06/introduction-anova-statistics-data-science-covid-python/\n",
    "\n",
    "https://www.marsja.se/four-ways-to-conduct-one-way-anovas-using-python/\n",
    "\n",
    "https://analyticsindiamag.com/a-complete-python-guide-to-anova/ - missing data images\n",
    "\n",
    "https://analyticsindiamag.com/maximum-likelihood-estimation-python-guide/ - Maximum Likelihood Estimation "
   ]
  },
  {
   "cell_type": "markdown",
   "id": "bd88e22a-d4a4-4ff6-bd12-e41dfd89f798",
   "metadata": {},
   "source": [
    "## References\n",
    "\n",
    "[1] https://docs.scipy.org/doc/scipy/reference/reference/stats.html"
   ]
  },
  {
   "cell_type": "markdown",
   "id": "d3e3b179-b4e7-4205-8e60-e28760358618",
   "metadata": {},
   "source": [
    "***\n",
    "## End"
   ]
  }
 ],
 "metadata": {
  "kernelspec": {
   "display_name": "Python 3",
   "language": "python",
   "name": "python3"
  },
  "language_info": {
   "codemirror_mode": {
    "name": "ipython",
    "version": 3
   },
   "file_extension": ".py",
   "mimetype": "text/x-python",
   "name": "python",
   "nbconvert_exporter": "python",
   "pygments_lexer": "ipython3",
   "version": "3.8.8"
  }
 },
 "nbformat": 4,
 "nbformat_minor": 5
}
