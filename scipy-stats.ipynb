{
 "cells": [
  {
   "cell_type": "markdown",
   "id": "859da1bf-166a-41c1-9692-8150c6018004",
   "metadata": {},
   "source": [
    "# The scipy.stats Python Library \n",
    "\n",
    "[Official Documentation](https://docs.scipy.org/doc/scipy/reference/reference/stats.html)\n",
    "***"
   ]
  },
  {
   "cell_type": "markdown",
   "id": "326ec83a-9d2b-444a-97bd-9911731bd2fe",
   "metadata": {},
   "source": [
    "#### 10% A clear and concise overview of the scipy.stats Python library:\n",
    "\n",
    "### Intro\n",
    "### Scipy Stats\n",
    "### Descriptive Statistics & Probability Distributions\n",
    "https://scipy-lectures.org/packages/statistics/index.html\n",
    "\n",
    "https://docs.scipy.org/doc/scipy/reference/reference/stats.html\n",
    "\n",
    "[t-test v anova](https://www.raybiotech.com/learning-center/t-test-anova/#:~:text=The%20t%2Dtest%20is%20a,statistically%20different%20from%20each%20other)\n",
    "\n",
    "- What is ANOVA\n",
    "- Why is it used\n",
    "- When is it used\n",
    "- What are is its limitations\n",
    "\n"
   ]
  },
  {
   "cell_type": "markdown",
   "id": "ee38bbd2-ddb6-455a-8623-b862ff049b77",
   "metadata": {},
   "source": [
    "### Hypothesis Testing\n",
    "\n",
    "Hypothesis testing types:\n",
    "\n",
    "1. T Test ( Student T test)\n",
    "2. Z Test\n",
    "3. ANOVA Test\n",
    "4. Chi-Square Test"
   ]
  },
  {
   "cell_type": "markdown",
   "id": "9f7208c0-0755-45c4-9651-713358567863",
   "metadata": {},
   "source": [
    "### T-test"
   ]
  },
  {
   "cell_type": "markdown",
   "id": "a18128e7-2841-428f-bb01-af6af184bc86",
   "metadata": {},
   "source": [
    "### ANOVA Test - Analysis of variance"
   ]
  },
  {
   "cell_type": "markdown",
   "id": "ea7dae3e-bd92-43e2-8457-489c01f0a601",
   "metadata": {},
   "source": [
    "Analysis of variance (ANOVA) was developed by the statistician Ronald Fisher  in 1918, it is a statistical technique that is used to check if the means of two or more groups are significantly different from each other. ANOVA checks the impact of one or more factors by comparing the means of different samples.\n",
    "\n",
    "Like the t-test, ANOVA determines whether the differences between groups of data are statistically significant. It works by analysing the levels of variance within the groups through samples taken from each of them. [3](#References)\n",
    "\n",
    "T-tests & ANOVA will provide the same results where only two samples are under consideration, however t-test would not be as reliable as an ANOVA test in cases where there are more than 2 samples. \n",
    "\n",
    "#### Types of ANOVA Test\n",
    "\n",
    "1. One-Way ANOVA\n",
    "\n",
    "2. Two-Way ANOVA\n",
    "\n",
    "3. N-Way ANOVA (MANOVA)"
   ]
  },
  {
   "cell_type": "markdown",
   "id": "392bcd71-6fbf-47c0-b220-47b0f1a47977",
   "metadata": {
    "tags": []
   },
   "source": [
    "#### Assumption 1"
   ]
  },
  {
   "cell_type": "markdown",
   "id": "175de71c-07b9-43f2-83eb-c9166de6aeec",
   "metadata": {},
   "source": [
    "Assumption #1: Your dependent variable should be measured at the interval or ratio level (i.e., they are continuous). Examples of variables that meet this criterion include revision time (measured in hours), intelligence (measured using IQ score), exam performance (measured from 0 to 100), weight (measured in kg), and so forth. You can learn more about interval and ratio variables in our article: Types of Variable."
   ]
  },
  {
   "cell_type": "markdown",
   "id": "34f8e1de-ba1e-4bf8-ace9-61b820d69808",
   "metadata": {},
   "source": [
    "#### Assumption 2"
   ]
  },
  {
   "cell_type": "markdown",
   "id": "e5c15771-b535-4577-8f3b-b3cad7b9b968",
   "metadata": {},
   "source": [
    "Assumption #2: Your independent variable should consist of two or more categorical, independent groups. Typically, a one-way ANOVA is used when you have three or more categorical, independent groups, but it can be used for just two groups (but an independent-samples t-test is more commonly used for two groups). Example independent variables that meet this criterion include ethnicity (e.g., 3 groups: Caucasian, African American and Hispanic), physical activity level (e.g., 4 groups: sedentary, low, moderate and high), profession (e.g., 5 groups: surgeon, doctor, nurse, dentist, therapist), and so forth."
   ]
  },
  {
   "cell_type": "markdown",
   "id": "74971591-ba89-4fb5-8fee-e588afd815ae",
   "metadata": {},
   "source": [
    "#### Assumption 3"
   ]
  },
  {
   "cell_type": "markdown",
   "id": "74cb7dce-87bb-4f18-a0d2-eb47ba47e552",
   "metadata": {},
   "source": [
    "Assumption #3: You should have independence of observations, which means that there is no relationship between the observations in each group or between the groups themselves. For example, there must be different participants in each group with no participant being in more than one group. This is more of a study design issue than something you can test for, but it is an important assumption of the one-way ANOVA. If your study fails this assumption, you will need to use another statistical test instead of the one-way ANOVA (e.g., a repeated measures design). If you are unsure whether your study meets this assumption, you can use our Statistical Test Selector, which is part of our enhanced guides."
   ]
  },
  {
   "cell_type": "markdown",
   "id": "39e740f8-31cf-46fb-a9a3-23de682141f5",
   "metadata": {},
   "source": [
    "#### Assumption 4"
   ]
  },
  {
   "cell_type": "markdown",
   "id": "152f7e2a-4654-4150-9686-16883fdbea48",
   "metadata": {},
   "source": [
    "Assumption #4: There should be no significant outliers. Outliers are simply single data points within your data that do not follow the usual pattern (e.g., in a study of 100 students' IQ scores, where the mean score was 108 with only a small variation between students, one student had a score of 156, which is very unusual, and may even put her in the top 1% of IQ scores globally). The problem with outliers is that they can have a negative effect on the one-way ANOVA, reducing the validity of your results. Fortunately, when using SPSS Statistics to run a one-way ANOVA on your data, you can easily detect possible outliers. In our enhanced one-way ANOVA guide, we: (a) show you how to detect outliers using SPSS Statistics; and (b) discuss some of the options you have in order to deal with outliers. You can learn more about our enhanced one-way ANOVA guide on our Features: One-way ANOVA page."
   ]
  },
  {
   "cell_type": "markdown",
   "id": "e364feaf-33d5-4117-ab22-6f4c1a7e73af",
   "metadata": {},
   "source": [
    "#### Assumption 5"
   ]
  },
  {
   "cell_type": "markdown",
   "id": "1187812a-762a-45f0-82b5-901434a45d7e",
   "metadata": {},
   "source": [
    "Assumption #5: Your dependent variable should be approximately normally distributed for each category of the independent variable. We talk about the one-way ANOVA only requiring approximately normal data because it is quite \"robust\" to violations of normality, meaning that assumption can be a little violated and still provide valid results. You can test for normality using the Shapiro-Wilk test of normality, which is easily tested for using SPSS Statistics. In addition to showing you how to do this in our enhanced one-way ANOVA guide, we also explain what you can do if your data fails this assumption (i.e., if it fails it more than a little bit). Again, you can learn more on our Features: One-way ANOVA page."
   ]
  },
  {
   "cell_type": "markdown",
   "id": "4794c4b9-5a21-4e4b-b0f3-b04517ed2a72",
   "metadata": {},
   "source": [
    "#### Assumption 6"
   ]
  },
  {
   "cell_type": "markdown",
   "id": "261990d9-f382-4310-9088-c10274e5384a",
   "metadata": {},
   "source": [
    "Assumption #6: There needs to be homogeneity of variances. You can test this assumption in SPSS Statistics using Levene's test for homogeneity of variances. If your data fails this assumption, you will need to not only carry out a Welch ANOVA instead of a one-way ANOVA, which you can do using SPSS Statistics, but also use a different post hoc test. In our enhanced one-way ANOVA guide, we (a) show you how to perform Levene’s test for homogeneity of variances in SPSS Statistics, (b) explain some of the things you will need to consider when interpreting your data, and (c) present possible ways to continue with your analysis if your data fails to meet this assumption, including running a Welch ANOVA in SPSS Statistics instead of a one-way ANOVA, and a Games-Howell test instead of a Tukey post hoc test (learn more on our Features: One-way ANOVA page)."
   ]
  },
  {
   "cell_type": "markdown",
   "id": "fd0bef68-0a3c-4658-853e-4023df11a40d",
   "metadata": {},
   "source": [
    "#### 20% An example hypothesis test using ANOVA. You should find a data set on which it is appropriate to use ANOVA, ensure the assumptions underlying ANOVA are met, and then perform and display the results of your ANOVA using scipy.stats"
   ]
  },
  {
   "cell_type": "markdown",
   "id": "61356bc3-e50d-422c-a0f0-37ba968ff8cc",
   "metadata": {},
   "source": [
    "#### 10% Appropriate plots and other visualisations to enhance your notebook for viewers\n"
   ]
  },
  {
   "cell_type": "markdown",
   "id": "beb149c3-85fa-4690-af08-74e9831deff4",
   "metadata": {},
   "source": [
    "## Application\n",
    "***"
   ]
  },
  {
   "cell_type": "markdown",
   "id": "7068fc1f-3ae9-4e74-8239-f1c65e3a9473",
   "metadata": {},
   "source": [
    "### Import necessary packages"
   ]
  },
  {
   "cell_type": "code",
   "execution_count": 11,
   "id": "1772dd39-676c-4b09-8428-689242ff0dee",
   "metadata": {},
   "outputs": [],
   "source": [
    "import pandas as pd  # Pandas for dataframe.\n",
    "\n",
    "import seaborn as sns # Seaborn for Plotting.\n",
    "\n",
    "import scipy.stats as ss # SciPy Stats\n",
    "\n",
    "import numpy as np # Numpy for arrays \n",
    "\n",
    "import collections as co # Collections\n",
    "\n",
    "import scipy.special as spec # SciPy Specials\n",
    "\n",
    "import matplotlib.pyplot as plt\n",
    "\n",
    "plt.style.use('ggplot')"
   ]
  },
  {
   "cell_type": "markdown",
   "id": "7a3a6139-ba8a-4330-9e2c-900dba08ff34",
   "metadata": {},
   "source": [
    "### Selection of Dataset"
   ]
  },
  {
   "cell_type": "markdown",
   "id": "dad992bf-a111-473c-9884-f5c6c785b160",
   "metadata": {},
   "source": [
    "### Visualise"
   ]
  },
  {
   "cell_type": "markdown",
   "id": "698e0dfd-5bf0-4beb-93c3-f8656c08c037",
   "metadata": {},
   "source": [
    "## (ensure the assumptions underlying ANOVA are met)Check ANOVA Assumptions\n",
    "***\n",
    "\n",
    "pvalues?"
   ]
  },
  {
   "cell_type": "markdown",
   "id": "08c0fc89-2c72-4b6f-b143-2e3a01841764",
   "metadata": {},
   "source": [
    "### Example Hypothesis Test using ANOVA\n",
    "\n",
    "https://www.itl.nist.gov/div898/education/datasets.htm#anova\n",
    "\n",
    "One-way Anova and Two-Way Anova\n",
    "\n",
    "https://www.statisticssolutions.com/free-resources/directory-of-statistical-analyses/anova/\n",
    "\n",
    "[One-way ANOVA in SPSS Statistics](https://statistics.laerd.com/spss-tutorials/one-way-anova-using-spss-statistics.php)\n",
    "\n",
    "https://docs.scipy.org/doc/scipy/reference/generated/scipy.stats.f_oneway.html"
   ]
  },
  {
   "cell_type": "markdown",
   "id": "379bd7a4-9c7b-4e8e-9d2c-818c2ccaa107",
   "metadata": {
    "tags": []
   },
   "source": [
    "### Assumption 1"
   ]
  },
  {
   "cell_type": "markdown",
   "id": "1894e395-f6db-4fe9-b0c1-262048c3b146",
   "metadata": {},
   "source": [
    "### Assumption 2"
   ]
  },
  {
   "cell_type": "markdown",
   "id": "2e51d24a-0dc2-4db7-bfd6-3c58cd1b6c0b",
   "metadata": {},
   "source": [
    "### Assumption 3"
   ]
  },
  {
   "cell_type": "markdown",
   "id": "3a734bb2-add4-4c2d-9dea-6993878d1d0a",
   "metadata": {},
   "source": [
    "### Assumption 4"
   ]
  },
  {
   "cell_type": "markdown",
   "id": "6d08a897-8148-4f24-9dac-d1718fedac33",
   "metadata": {},
   "source": [
    "### Assumption 5"
   ]
  },
  {
   "cell_type": "markdown",
   "id": "caf37f79-70a9-44c1-b582-e29ba4e86460",
   "metadata": {},
   "source": [
    "### Assumption 6"
   ]
  },
  {
   "cell_type": "markdown",
   "id": "8afee8bb-4e5b-4d95-a3e2-7e688c9edfa6",
   "metadata": {},
   "source": [
    "## One-Way ANOVA \n",
    "***"
   ]
  },
  {
   "cell_type": "markdown",
   "id": "9bc60ab5-5fcc-4cb4-8743-23e36d40437c",
   "metadata": {},
   "source": [
    "### Results - perform and display the results of your ANOVA using scipy.stats\n",
    "\n",
    "![Tests](https://www.reneshbedre.com/assets/posts/anova/main.webp)\n",
    "\n",
    "https://www.reneshbedre.com/blog/anova.html\n",
    "\n",
    "https://www.pythonfordatascience.org/anova-python/\n",
    "\n",
    "https://www.analyticsvidhya.com/blog/2020/06/introduction-anova-statistics-data-science-covid-python/\n",
    "\n",
    "https://www.marsja.se/four-ways-to-conduct-one-way-anovas-using-python/\n",
    "\n",
    "https://analyticsindiamag.com/a-complete-python-guide-to-anova/ - missing data images\n",
    "\n",
    "https://analyticsindiamag.com/maximum-likelihood-estimation-python-guide/ - Maximum Likelihood Estimation "
   ]
  },
  {
   "cell_type": "markdown",
   "id": "bd88e22a-d4a4-4ff6-bd12-e41dfd89f798",
   "metadata": {},
   "source": [
    "**Post Hoc Tests**\n",
    "\n",
    "As the ANOVA result does not identify which particular differences between pairs of means are significant, A post hoc test can be used to explore the differences between group means. \n",
    "\n",
    "Post hoc translates to “after the event” in Latin and the tests are conducted after an ANOVA test.\n",
    "\n",
    "There are many different post hoc tests that have been developed, and most of them will give us similar answers.\n",
    "\n",
    "Some common post hoc tests include:\n",
    "\n",
    "- Tukey’s Honest Significant Difference \n",
    "- Bonferroni Procedure\n",
    "- Scheffé’s Method\n",
    "- Duncan’s new multiple range test (MRT)\n",
    "- Fisher’s Least Significant Difference (LSD)\n",
    "\n",
    "**Tukey’s Honest Significant Difference (HSD)**\n",
    "\n",
    "\n",
    "The Tukey test was developed by John Tukey,  the test compares the differences between means of values rather than comparing pairs of values. The value of the Tukey test is given by taking the absolute value of the difference between pairs of means and dividing it by the standard error of the mean (SE) as determined by a one-way ANOVA test. The SE is in turn the square root of (variance divided by sample size). [4](#References)\n",
    "\n",
    "The purpose of Tukey’s test is to figure out which groups in your sample differ. It uses the “Honest Significant Difference,” a number that represents the distance between groups, to compare every mean with every other mean.## References\n",
    "\n",
    "[1] https://docs.scipy.org/doc/scipy/reference/reference/stats.html"
   ]
  },
  {
   "cell_type": "markdown",
   "id": "d3e3b179-b4e7-4205-8e60-e28760358618",
   "metadata": {},
   "source": [
    "***\n",
    "## End"
   ]
  }
 ],
 "metadata": {
  "kernelspec": {
   "display_name": "Python 3",
   "language": "python",
   "name": "python3"
  },
  "language_info": {
   "codemirror_mode": {
    "name": "ipython",
    "version": 3
   },
   "file_extension": ".py",
   "mimetype": "text/x-python",
   "name": "python",
   "nbconvert_exporter": "python",
   "pygments_lexer": "ipython3",
   "version": "3.8.8"
  }
 },
 "nbformat": 4,
 "nbformat_minor": 5
}
